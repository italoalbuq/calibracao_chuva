{
 "cells": [
  {
   "cell_type": "markdown",
   "id": "f82fdc2e",
   "metadata": {},
   "source": [
    "# 0.0 IMPORTS"
   ]
  },
  {
   "cell_type": "code",
   "execution_count": 1,
   "id": "dcf31aff",
   "metadata": {},
   "outputs": [],
   "source": [
    "import pandas as pd\n",
    "import numpy as np\n",
    "import seaborn as sns\n",
    "import matplotlib.pyplot as plt\n",
    "from datetime import datetime\n",
    "import pylab\n",
    "import pickle\n",
    "\n",
    "import inflection\n",
    "\n",
    "from sklearn.model_selection     import train_test_split\n",
    "from sklearn.preprocessing       import OneHotEncoder, MinMaxScaler\n",
    "from sklearn.linear_model        import LogisticRegression\n",
    "from sklearn.ensemble            import RandomForestClassifier\n",
    "from sklearn.metrics             import accuracy_score, classification_report\n",
    "from sklearn.tree                import DecisionTreeClassifier\n",
    "from sklearn.svm                 import SVC\n",
    "from xgboost                     import XGBClassifier\n",
    "from imblearn.over_sampling      import SMOTE\n",
    "\n",
    "from warnings import simplefilter\n",
    "simplefilter(action='ignore', category=FutureWarning)"
   ]
  },
  {
   "cell_type": "markdown",
   "id": "77302368",
   "metadata": {},
   "source": [
    "## 0.1 Help Functions"
   ]
  },
  {
   "cell_type": "code",
   "execution_count": 2,
   "id": "d3bf3203",
   "metadata": {},
   "outputs": [],
   "source": [
    "#tamanho dos gráficos\n",
    "def tamanho( x, y ):\n",
    "    pylab.rcParams['figure.figsize'] = (x, y)"
   ]
  },
  {
   "cell_type": "markdown",
   "id": "06712610",
   "metadata": {},
   "source": [
    "## 0.2 Loading Datasets"
   ]
  },
  {
   "cell_type": "code",
   "execution_count": 3,
   "id": "bd1c2212",
   "metadata": {},
   "outputs": [
    {
     "data": {
      "text/html": [
       "<div>\n",
       "<style scoped>\n",
       "    .dataframe tbody tr th:only-of-type {\n",
       "        vertical-align: middle;\n",
       "    }\n",
       "\n",
       "    .dataframe tbody tr th {\n",
       "        vertical-align: top;\n",
       "    }\n",
       "\n",
       "    .dataframe thead th {\n",
       "        text-align: right;\n",
       "    }\n",
       "</style>\n",
       "<table border=\"1\" class=\"dataframe\">\n",
       "  <thead>\n",
       "    <tr style=\"text-align: right;\">\n",
       "      <th></th>\n",
       "      <th>data</th>\n",
       "      <th>Hora (Brasília)</th>\n",
       "      <th>chuva</th>\n",
       "    </tr>\n",
       "  </thead>\n",
       "  <tbody>\n",
       "    <tr>\n",
       "      <th>0</th>\n",
       "      <td>2020-09-01</td>\n",
       "      <td>00:00:00</td>\n",
       "      <td>0.0</td>\n",
       "    </tr>\n",
       "    <tr>\n",
       "      <th>1</th>\n",
       "      <td>2020-09-01</td>\n",
       "      <td>01:00:00</td>\n",
       "      <td>0.0</td>\n",
       "    </tr>\n",
       "    <tr>\n",
       "      <th>2</th>\n",
       "      <td>2020-09-01</td>\n",
       "      <td>02:00:00</td>\n",
       "      <td>0.0</td>\n",
       "    </tr>\n",
       "    <tr>\n",
       "      <th>3</th>\n",
       "      <td>2020-09-01</td>\n",
       "      <td>03:00:00</td>\n",
       "      <td>0.0</td>\n",
       "    </tr>\n",
       "    <tr>\n",
       "      <th>4</th>\n",
       "      <td>2020-09-01</td>\n",
       "      <td>04:00:00</td>\n",
       "      <td>0.0</td>\n",
       "    </tr>\n",
       "  </tbody>\n",
       "</table>\n",
       "</div>"
      ],
      "text/plain": [
       "         data Hora (Brasília)  chuva\n",
       "0  2020-09-01        00:00:00    0.0\n",
       "1  2020-09-01        01:00:00    0.0\n",
       "2  2020-09-01        02:00:00    0.0\n",
       "3  2020-09-01        03:00:00    0.0\n",
       "4  2020-09-01        04:00:00    0.0"
      ]
     },
     "execution_count": 3,
     "metadata": {},
     "output_type": "execute_result"
    }
   ],
   "source": [
    "df_estacao = pd.read_csv('Estacao.csv', sep=',')\n",
    "df_estacao.head()"
   ]
  },
  {
   "cell_type": "code",
   "execution_count": 4,
   "id": "0ed2a9ae",
   "metadata": {},
   "outputs": [
    {
     "data": {
      "text/html": [
       "<div>\n",
       "<style scoped>\n",
       "    .dataframe tbody tr th:only-of-type {\n",
       "        vertical-align: middle;\n",
       "    }\n",
       "\n",
       "    .dataframe tbody tr th {\n",
       "        vertical-align: top;\n",
       "    }\n",
       "\n",
       "    .dataframe thead th {\n",
       "        text-align: right;\n",
       "    }\n",
       "</style>\n",
       "<table border=\"1\" class=\"dataframe\">\n",
       "  <thead>\n",
       "    <tr style=\"text-align: right;\">\n",
       "      <th></th>\n",
       "      <th>Datetime – utc</th>\n",
       "      <th>air_humidity_100</th>\n",
       "      <th>air_temperature_100</th>\n",
       "      <th>atm_pressure_main</th>\n",
       "      <th>num_of_resets</th>\n",
       "      <th>piezo_charge</th>\n",
       "      <th>piezo_temperature</th>\n",
       "    </tr>\n",
       "  </thead>\n",
       "  <tbody>\n",
       "    <tr>\n",
       "      <th>0</th>\n",
       "      <td>2020-09-30T23:00:00Z</td>\n",
       "      <td>38.0</td>\n",
       "      <td>31.366</td>\n",
       "      <td>9412</td>\n",
       "      <td>0</td>\n",
       "      <td>45123</td>\n",
       "      <td>30</td>\n",
       "    </tr>\n",
       "    <tr>\n",
       "      <th>1</th>\n",
       "      <td>2020-10-01T00:00:00Z</td>\n",
       "      <td>NaN</td>\n",
       "      <td>NaN</td>\n",
       "      <td>9412</td>\n",
       "      <td>0</td>\n",
       "      <td>45025</td>\n",
       "      <td>31</td>\n",
       "    </tr>\n",
       "    <tr>\n",
       "      <th>2</th>\n",
       "      <td>2020-10-01T01:00:00Z</td>\n",
       "      <td>39.0</td>\n",
       "      <td>31.366</td>\n",
       "      <td>9419</td>\n",
       "      <td>0</td>\n",
       "      <td>44923</td>\n",
       "      <td>31</td>\n",
       "    </tr>\n",
       "    <tr>\n",
       "      <th>3</th>\n",
       "      <td>2020-10-01T02:00:00Z</td>\n",
       "      <td>39.0</td>\n",
       "      <td>31.322</td>\n",
       "      <td>9419</td>\n",
       "      <td>0</td>\n",
       "      <td>44825</td>\n",
       "      <td>31</td>\n",
       "    </tr>\n",
       "    <tr>\n",
       "      <th>4</th>\n",
       "      <td>2020-10-01T03:00:00Z</td>\n",
       "      <td>38.0</td>\n",
       "      <td>31.240</td>\n",
       "      <td>9416</td>\n",
       "      <td>0</td>\n",
       "      <td>44728</td>\n",
       "      <td>31</td>\n",
       "    </tr>\n",
       "  </tbody>\n",
       "</table>\n",
       "</div>"
      ],
      "text/plain": [
       "         Datetime – utc  air_humidity_100  air_temperature_100  \\\n",
       "0  2020-09-30T23:00:00Z              38.0               31.366   \n",
       "1  2020-10-01T00:00:00Z               NaN                  NaN   \n",
       "2  2020-10-01T01:00:00Z              39.0               31.366   \n",
       "3  2020-10-01T02:00:00Z              39.0               31.322   \n",
       "4  2020-10-01T03:00:00Z              38.0               31.240   \n",
       "\n",
       "   atm_pressure_main  num_of_resets  piezo_charge  piezo_temperature  \n",
       "0               9412              0         45123                 30  \n",
       "1               9412              0         45025                 31  \n",
       "2               9419              0         44923                 31  \n",
       "3               9419              0         44825                 31  \n",
       "4               9416              0         44728                 31  "
      ]
     },
     "execution_count": 4,
     "metadata": {},
     "output_type": "execute_result"
    }
   ],
   "source": [
    "df_sensor = pd.read_csv('Sensor.csv', sep=',')\n",
    "df_sensor.head()"
   ]
  },
  {
   "cell_type": "markdown",
   "id": "df4ae119",
   "metadata": {},
   "source": [
    "# 1.0 DATA DESCRIPTION"
   ]
  },
  {
   "cell_type": "markdown",
   "id": "9b218e9c",
   "metadata": {},
   "source": [
    "## 1.1 Rename Columns"
   ]
  },
  {
   "cell_type": "code",
   "execution_count": 5,
   "id": "d72d0cdf",
   "metadata": {},
   "outputs": [],
   "source": [
    "df_estacao.rename(columns={'Hora (Brasília)': 'hora'}, inplace=True)"
   ]
  },
  {
   "cell_type": "code",
   "execution_count": 6,
   "id": "d82fa91c",
   "metadata": {},
   "outputs": [],
   "source": [
    "df_sensor.rename(columns={'Datetime – utc': 'DataHora'}, inplace=True)"
   ]
  },
  {
   "cell_type": "markdown",
   "id": "331fa043",
   "metadata": {},
   "source": [
    "## 1.2 Merge dos Datasets"
   ]
  },
  {
   "cell_type": "code",
   "execution_count": 7,
   "id": "0ad0a14b",
   "metadata": {},
   "outputs": [
    {
     "data": {
      "text/html": [
       "<div>\n",
       "<style scoped>\n",
       "    .dataframe tbody tr th:only-of-type {\n",
       "        vertical-align: middle;\n",
       "    }\n",
       "\n",
       "    .dataframe tbody tr th {\n",
       "        vertical-align: top;\n",
       "    }\n",
       "\n",
       "    .dataframe thead th {\n",
       "        text-align: right;\n",
       "    }\n",
       "</style>\n",
       "<table border=\"1\" class=\"dataframe\">\n",
       "  <thead>\n",
       "    <tr style=\"text-align: right;\">\n",
       "      <th></th>\n",
       "      <th>data</th>\n",
       "      <th>hora</th>\n",
       "      <th>chuva</th>\n",
       "      <th>DataHora</th>\n",
       "    </tr>\n",
       "  </thead>\n",
       "  <tbody>\n",
       "    <tr>\n",
       "      <th>0</th>\n",
       "      <td>2020-09-01</td>\n",
       "      <td>00:00:00</td>\n",
       "      <td>0.0</td>\n",
       "      <td>2020-09-01T00:00:00Z</td>\n",
       "    </tr>\n",
       "    <tr>\n",
       "      <th>1</th>\n",
       "      <td>2020-09-01</td>\n",
       "      <td>01:00:00</td>\n",
       "      <td>0.0</td>\n",
       "      <td>2020-09-01T01:00:00Z</td>\n",
       "    </tr>\n",
       "    <tr>\n",
       "      <th>2</th>\n",
       "      <td>2020-09-01</td>\n",
       "      <td>02:00:00</td>\n",
       "      <td>0.0</td>\n",
       "      <td>2020-09-01T02:00:00Z</td>\n",
       "    </tr>\n",
       "    <tr>\n",
       "      <th>3</th>\n",
       "      <td>2020-09-01</td>\n",
       "      <td>03:00:00</td>\n",
       "      <td>0.0</td>\n",
       "      <td>2020-09-01T03:00:00Z</td>\n",
       "    </tr>\n",
       "    <tr>\n",
       "      <th>4</th>\n",
       "      <td>2020-09-01</td>\n",
       "      <td>04:00:00</td>\n",
       "      <td>0.0</td>\n",
       "      <td>2020-09-01T04:00:00Z</td>\n",
       "    </tr>\n",
       "    <tr>\n",
       "      <th>...</th>\n",
       "      <td>...</td>\n",
       "      <td>...</td>\n",
       "      <td>...</td>\n",
       "      <td>...</td>\n",
       "    </tr>\n",
       "    <tr>\n",
       "      <th>2251</th>\n",
       "      <td>2020-12-03</td>\n",
       "      <td>19:00:00</td>\n",
       "      <td>0.0</td>\n",
       "      <td>2020-12-03T19:00:00Z</td>\n",
       "    </tr>\n",
       "    <tr>\n",
       "      <th>2252</th>\n",
       "      <td>2020-12-03</td>\n",
       "      <td>20:00:00</td>\n",
       "      <td>0.0</td>\n",
       "      <td>2020-12-03T20:00:00Z</td>\n",
       "    </tr>\n",
       "    <tr>\n",
       "      <th>2253</th>\n",
       "      <td>2020-12-03</td>\n",
       "      <td>21:00:00</td>\n",
       "      <td>0.0</td>\n",
       "      <td>2020-12-03T21:00:00Z</td>\n",
       "    </tr>\n",
       "    <tr>\n",
       "      <th>2254</th>\n",
       "      <td>2020-12-03</td>\n",
       "      <td>22:00:00</td>\n",
       "      <td>0.0</td>\n",
       "      <td>2020-12-03T22:00:00Z</td>\n",
       "    </tr>\n",
       "    <tr>\n",
       "      <th>2255</th>\n",
       "      <td>2020-12-03</td>\n",
       "      <td>23:00:00</td>\n",
       "      <td>0.0</td>\n",
       "      <td>2020-12-03T23:00:00Z</td>\n",
       "    </tr>\n",
       "  </tbody>\n",
       "</table>\n",
       "<p>2256 rows × 4 columns</p>\n",
       "</div>"
      ],
      "text/plain": [
       "           data      hora  chuva              DataHora\n",
       "0    2020-09-01  00:00:00    0.0  2020-09-01T00:00:00Z\n",
       "1    2020-09-01  01:00:00    0.0  2020-09-01T01:00:00Z\n",
       "2    2020-09-01  02:00:00    0.0  2020-09-01T02:00:00Z\n",
       "3    2020-09-01  03:00:00    0.0  2020-09-01T03:00:00Z\n",
       "4    2020-09-01  04:00:00    0.0  2020-09-01T04:00:00Z\n",
       "...         ...       ...    ...                   ...\n",
       "2251 2020-12-03  19:00:00    0.0  2020-12-03T19:00:00Z\n",
       "2252 2020-12-03  20:00:00    0.0  2020-12-03T20:00:00Z\n",
       "2253 2020-12-03  21:00:00    0.0  2020-12-03T21:00:00Z\n",
       "2254 2020-12-03  22:00:00    0.0  2020-12-03T22:00:00Z\n",
       "2255 2020-12-03  23:00:00    0.0  2020-12-03T23:00:00Z\n",
       "\n",
       "[2256 rows x 4 columns]"
      ]
     },
     "execution_count": 7,
     "metadata": {},
     "output_type": "execute_result"
    }
   ],
   "source": [
    "# Junção de hora e data no formato UTC do dataset Estação\n",
    "\n",
    "df_estacao['data'] = pd.to_datetime(df_estacao['data'])\n",
    "df_estacao['hora'] = pd.to_datetime(df_estacao['hora'], format='%H:%M:%S').dt.time\n",
    "\n",
    "df_estacao['DataHora'] = df_estacao['data'].dt.strftime('%Y-%m-%d') + 'T' + df_estacao['hora'].astype(str) + 'Z'\n",
    "\n",
    "df_estacao"
   ]
  },
  {
   "cell_type": "code",
   "execution_count": 8,
   "id": "ea41a592",
   "metadata": {},
   "outputs": [
    {
     "data": {
      "text/html": [
       "<div>\n",
       "<style scoped>\n",
       "    .dataframe tbody tr th:only-of-type {\n",
       "        vertical-align: middle;\n",
       "    }\n",
       "\n",
       "    .dataframe tbody tr th {\n",
       "        vertical-align: top;\n",
       "    }\n",
       "\n",
       "    .dataframe thead th {\n",
       "        text-align: right;\n",
       "    }\n",
       "</style>\n",
       "<table border=\"1\" class=\"dataframe\">\n",
       "  <thead>\n",
       "    <tr style=\"text-align: right;\">\n",
       "      <th></th>\n",
       "      <th>data</th>\n",
       "      <th>hora</th>\n",
       "      <th>chuva</th>\n",
       "      <th>DataHora</th>\n",
       "      <th>air_humidity_100</th>\n",
       "      <th>air_temperature_100</th>\n",
       "      <th>atm_pressure_main</th>\n",
       "      <th>num_of_resets</th>\n",
       "      <th>piezo_charge</th>\n",
       "      <th>piezo_temperature</th>\n",
       "    </tr>\n",
       "  </thead>\n",
       "  <tbody>\n",
       "    <tr>\n",
       "      <th>0</th>\n",
       "      <td>2020-09-30</td>\n",
       "      <td>23:00:00</td>\n",
       "      <td>0.0</td>\n",
       "      <td>2020-09-30T23:00:00Z</td>\n",
       "      <td>38.0</td>\n",
       "      <td>31.366</td>\n",
       "      <td>9412</td>\n",
       "      <td>0</td>\n",
       "      <td>45123</td>\n",
       "      <td>30</td>\n",
       "    </tr>\n",
       "    <tr>\n",
       "      <th>1</th>\n",
       "      <td>2020-10-01</td>\n",
       "      <td>00:00:00</td>\n",
       "      <td>0.0</td>\n",
       "      <td>2020-10-01T00:00:00Z</td>\n",
       "      <td>NaN</td>\n",
       "      <td>NaN</td>\n",
       "      <td>9412</td>\n",
       "      <td>0</td>\n",
       "      <td>45025</td>\n",
       "      <td>31</td>\n",
       "    </tr>\n",
       "    <tr>\n",
       "      <th>2</th>\n",
       "      <td>2020-10-01</td>\n",
       "      <td>01:00:00</td>\n",
       "      <td>0.0</td>\n",
       "      <td>2020-10-01T01:00:00Z</td>\n",
       "      <td>39.0</td>\n",
       "      <td>31.366</td>\n",
       "      <td>9419</td>\n",
       "      <td>0</td>\n",
       "      <td>44923</td>\n",
       "      <td>31</td>\n",
       "    </tr>\n",
       "    <tr>\n",
       "      <th>3</th>\n",
       "      <td>2020-10-01</td>\n",
       "      <td>02:00:00</td>\n",
       "      <td>0.0</td>\n",
       "      <td>2020-10-01T02:00:00Z</td>\n",
       "      <td>39.0</td>\n",
       "      <td>31.322</td>\n",
       "      <td>9419</td>\n",
       "      <td>0</td>\n",
       "      <td>44825</td>\n",
       "      <td>31</td>\n",
       "    </tr>\n",
       "    <tr>\n",
       "      <th>4</th>\n",
       "      <td>2020-10-01</td>\n",
       "      <td>03:00:00</td>\n",
       "      <td>0.0</td>\n",
       "      <td>2020-10-01T03:00:00Z</td>\n",
       "      <td>38.0</td>\n",
       "      <td>31.240</td>\n",
       "      <td>9416</td>\n",
       "      <td>0</td>\n",
       "      <td>44728</td>\n",
       "      <td>31</td>\n",
       "    </tr>\n",
       "    <tr>\n",
       "      <th>...</th>\n",
       "      <td>...</td>\n",
       "      <td>...</td>\n",
       "      <td>...</td>\n",
       "      <td>...</td>\n",
       "      <td>...</td>\n",
       "      <td>...</td>\n",
       "      <td>...</td>\n",
       "      <td>...</td>\n",
       "      <td>...</td>\n",
       "      <td>...</td>\n",
       "    </tr>\n",
       "    <tr>\n",
       "      <th>1706</th>\n",
       "      <td>NaT</td>\n",
       "      <td>NaN</td>\n",
       "      <td>NaN</td>\n",
       "      <td>2020-12-11T09:00:00Z</td>\n",
       "      <td>82.0</td>\n",
       "      <td>19.480</td>\n",
       "      <td>9422</td>\n",
       "      <td>3</td>\n",
       "      <td>20669</td>\n",
       "      <td>17</td>\n",
       "    </tr>\n",
       "    <tr>\n",
       "      <th>1707</th>\n",
       "      <td>NaT</td>\n",
       "      <td>NaN</td>\n",
       "      <td>NaN</td>\n",
       "      <td>2020-12-11T10:00:00Z</td>\n",
       "      <td>69.0</td>\n",
       "      <td>24.000</td>\n",
       "      <td>9429</td>\n",
       "      <td>3</td>\n",
       "      <td>20606</td>\n",
       "      <td>19</td>\n",
       "    </tr>\n",
       "    <tr>\n",
       "      <th>1708</th>\n",
       "      <td>NaT</td>\n",
       "      <td>NaN</td>\n",
       "      <td>NaN</td>\n",
       "      <td>2020-12-11T11:00:00Z</td>\n",
       "      <td>63.0</td>\n",
       "      <td>25.440</td>\n",
       "      <td>9436</td>\n",
       "      <td>3</td>\n",
       "      <td>20529</td>\n",
       "      <td>25</td>\n",
       "    </tr>\n",
       "    <tr>\n",
       "      <th>1709</th>\n",
       "      <td>NaT</td>\n",
       "      <td>NaN</td>\n",
       "      <td>NaN</td>\n",
       "      <td>2020-12-11T12:00:00Z</td>\n",
       "      <td>60.0</td>\n",
       "      <td>27.160</td>\n",
       "      <td>9439</td>\n",
       "      <td>3</td>\n",
       "      <td>20442</td>\n",
       "      <td>28</td>\n",
       "    </tr>\n",
       "    <tr>\n",
       "      <th>1710</th>\n",
       "      <td>NaT</td>\n",
       "      <td>NaN</td>\n",
       "      <td>NaN</td>\n",
       "      <td>2020-12-11T13:00:00Z</td>\n",
       "      <td>56.0</td>\n",
       "      <td>29.060</td>\n",
       "      <td>9440</td>\n",
       "      <td>3</td>\n",
       "      <td>20344</td>\n",
       "      <td>30</td>\n",
       "    </tr>\n",
       "  </tbody>\n",
       "</table>\n",
       "<p>1711 rows × 10 columns</p>\n",
       "</div>"
      ],
      "text/plain": [
       "           data      hora  chuva              DataHora  air_humidity_100  \\\n",
       "0    2020-09-30  23:00:00    0.0  2020-09-30T23:00:00Z              38.0   \n",
       "1    2020-10-01  00:00:00    0.0  2020-10-01T00:00:00Z               NaN   \n",
       "2    2020-10-01  01:00:00    0.0  2020-10-01T01:00:00Z              39.0   \n",
       "3    2020-10-01  02:00:00    0.0  2020-10-01T02:00:00Z              39.0   \n",
       "4    2020-10-01  03:00:00    0.0  2020-10-01T03:00:00Z              38.0   \n",
       "...         ...       ...    ...                   ...               ...   \n",
       "1706        NaT       NaN    NaN  2020-12-11T09:00:00Z              82.0   \n",
       "1707        NaT       NaN    NaN  2020-12-11T10:00:00Z              69.0   \n",
       "1708        NaT       NaN    NaN  2020-12-11T11:00:00Z              63.0   \n",
       "1709        NaT       NaN    NaN  2020-12-11T12:00:00Z              60.0   \n",
       "1710        NaT       NaN    NaN  2020-12-11T13:00:00Z              56.0   \n",
       "\n",
       "      air_temperature_100  atm_pressure_main  num_of_resets  piezo_charge  \\\n",
       "0                  31.366               9412              0         45123   \n",
       "1                     NaN               9412              0         45025   \n",
       "2                  31.366               9419              0         44923   \n",
       "3                  31.322               9419              0         44825   \n",
       "4                  31.240               9416              0         44728   \n",
       "...                   ...                ...            ...           ...   \n",
       "1706               19.480               9422              3         20669   \n",
       "1707               24.000               9429              3         20606   \n",
       "1708               25.440               9436              3         20529   \n",
       "1709               27.160               9439              3         20442   \n",
       "1710               29.060               9440              3         20344   \n",
       "\n",
       "      piezo_temperature  \n",
       "0                    30  \n",
       "1                    31  \n",
       "2                    31  \n",
       "3                    31  \n",
       "4                    31  \n",
       "...                 ...  \n",
       "1706                 17  \n",
       "1707                 19  \n",
       "1708                 25  \n",
       "1709                 28  \n",
       "1710                 30  \n",
       "\n",
       "[1711 rows x 10 columns]"
      ]
     },
     "execution_count": 8,
     "metadata": {},
     "output_type": "execute_result"
    }
   ],
   "source": [
    "df = pd.merge(df_estacao, df_sensor, on='DataHora', how='right')\n",
    "df"
   ]
  },
  {
   "cell_type": "markdown",
   "id": "185062ad",
   "metadata": {},
   "source": [
    "## 1.3 Treatment Date and Time"
   ]
  },
  {
   "cell_type": "code",
   "execution_count": 9,
   "id": "ecfc17fc",
   "metadata": {},
   "outputs": [],
   "source": [
    "df['DataHora'] = pd.to_datetime(df['DataHora'])"
   ]
  },
  {
   "cell_type": "code",
   "execution_count": 10,
   "id": "29f604e2",
   "metadata": {},
   "outputs": [],
   "source": [
    "df['data'] = df['DataHora'].dt.date"
   ]
  },
  {
   "cell_type": "code",
   "execution_count": 11,
   "id": "77c63e5b",
   "metadata": {},
   "outputs": [],
   "source": [
    "df['hora'] = df['DataHora'].dt.time"
   ]
  },
  {
   "cell_type": "code",
   "execution_count": 12,
   "id": "0eb1900b",
   "metadata": {},
   "outputs": [],
   "source": [
    "df['data'] = pd.to_datetime(df['data'])"
   ]
  },
  {
   "cell_type": "markdown",
   "id": "2177daee",
   "metadata": {},
   "source": [
    "## 1.4 Data Types"
   ]
  },
  {
   "cell_type": "code",
   "execution_count": 13,
   "id": "5672acf4",
   "metadata": {},
   "outputs": [
    {
     "data": {
      "text/plain": [
       "data                        datetime64[ns]\n",
       "hora                                object\n",
       "chuva                              float64\n",
       "DataHora               datetime64[ns, UTC]\n",
       "air_humidity_100                   float64\n",
       "air_temperature_100                float64\n",
       "atm_pressure_main                    int64\n",
       "num_of_resets                        int64\n",
       "piezo_charge                         int64\n",
       "piezo_temperature                    int64\n",
       "dtype: object"
      ]
     },
     "execution_count": 13,
     "metadata": {},
     "output_type": "execute_result"
    }
   ],
   "source": [
    "df.dtypes"
   ]
  },
  {
   "cell_type": "markdown",
   "id": "75459e52",
   "metadata": {},
   "source": [
    "## 1.5 Data Dimension"
   ]
  },
  {
   "cell_type": "code",
   "execution_count": 14,
   "id": "f97d80bf",
   "metadata": {},
   "outputs": [
    {
     "name": "stdout",
     "output_type": "stream",
     "text": [
      "Numero de linhas: 1711\n",
      "Number de colunas: 10\n"
     ]
    }
   ],
   "source": [
    "print( 'Numero de linhas: {}'.format( df.shape[0] ) )\n",
    "print( 'Number de colunas: {}'.format( df.shape[1] ) )"
   ]
  },
  {
   "cell_type": "markdown",
   "id": "9f77854d",
   "metadata": {},
   "source": [
    "## 1.6 Check NA"
   ]
  },
  {
   "cell_type": "code",
   "execution_count": 15,
   "id": "0ec2cd8d",
   "metadata": {},
   "outputs": [
    {
     "data": {
      "text/plain": [
       "data                     0\n",
       "hora                     0\n",
       "chuva                  183\n",
       "DataHora                 0\n",
       "air_humidity_100         6\n",
       "air_temperature_100      6\n",
       "atm_pressure_main        0\n",
       "num_of_resets            0\n",
       "piezo_charge             0\n",
       "piezo_temperature        0\n",
       "dtype: int64"
      ]
     },
     "execution_count": 15,
     "metadata": {},
     "output_type": "execute_result"
    }
   ],
   "source": [
    "df.isna().sum()"
   ]
  },
  {
   "cell_type": "markdown",
   "id": "55ee3cfb",
   "metadata": {},
   "source": [
    "## 1.7 Fillout NA"
   ]
  },
  {
   "cell_type": "code",
   "execution_count": 16,
   "id": "59aada5e",
   "metadata": {},
   "outputs": [],
   "source": [
    "air_humidity_100 = df['air_humidity_100'].mean()\n",
    "air_temperature_100 = df['air_temperature_100'].mean()\n",
    "chuva = df['chuva'].mean()"
   ]
  },
  {
   "cell_type": "code",
   "execution_count": 17,
   "id": "0f33e0a8",
   "metadata": {},
   "outputs": [],
   "source": [
    "df.update(df['air_humidity_100'].fillna(air_humidity_100))\n",
    "df.update(df['air_temperature_100'].fillna(air_temperature_100))\n",
    "df.update(df['chuva'].fillna(chuva))"
   ]
  },
  {
   "cell_type": "markdown",
   "id": "84d213a8",
   "metadata": {},
   "source": [
    "## 1.8 Feature Engineering"
   ]
  },
  {
   "cell_type": "code",
   "execution_count": 18,
   "id": "5624cdb1",
   "metadata": {},
   "outputs": [],
   "source": [
    "# year\n",
    "df['year'] = df['data'].dt.year\n",
    "\n",
    "# month\n",
    "df['month'] = df['data'].dt.month\n",
    "\n",
    "# day\n",
    "df['day'] = df['data'].dt.day\n",
    "\n",
    "# week of year\n",
    "df['week_of_year'] = df['data'].dt.weekofyear"
   ]
  },
  {
   "cell_type": "markdown",
   "id": "e8b9a2d1",
   "metadata": {},
   "source": [
    "## 1.9 Descriptive Statistics"
   ]
  },
  {
   "cell_type": "code",
   "execution_count": 19,
   "id": "67726099",
   "metadata": {},
   "outputs": [],
   "source": [
    "num_attributes = df.select_dtypes(include = ['int64', 'float64'])\n",
    "\n",
    "cat_attributes = df.select_dtypes(exclude = ['int64', 'float64', 'datetime64[ns]'])"
   ]
  },
  {
   "cell_type": "markdown",
   "id": "1feb3f0b",
   "metadata": {},
   "source": [
    "### 1.9.1 Numerical Atributes"
   ]
  },
  {
   "cell_type": "code",
   "execution_count": 20,
   "id": "02f8ffdc",
   "metadata": {},
   "outputs": [
    {
     "data": {
      "text/plain": [
       "chuva                    28\n",
       "air_humidity_100         88\n",
       "air_temperature_100     973\n",
       "atm_pressure_main       143\n",
       "num_of_resets             4\n",
       "piezo_charge           1693\n",
       "piezo_temperature        37\n",
       "year                      1\n",
       "month                     4\n",
       "day                      31\n",
       "week_of_year             11\n",
       "dtype: int64"
      ]
     },
     "execution_count": 20,
     "metadata": {},
     "output_type": "execute_result"
    }
   ],
   "source": [
    "num_attributes.nunique()"
   ]
  },
  {
   "cell_type": "code",
   "execution_count": 21,
   "id": "e15070d1",
   "metadata": {},
   "outputs": [
    {
     "data": {
      "text/html": [
       "<div>\n",
       "<style scoped>\n",
       "    .dataframe tbody tr th:only-of-type {\n",
       "        vertical-align: middle;\n",
       "    }\n",
       "\n",
       "    .dataframe tbody tr th {\n",
       "        vertical-align: top;\n",
       "    }\n",
       "\n",
       "    .dataframe thead th {\n",
       "        text-align: right;\n",
       "    }\n",
       "</style>\n",
       "<table border=\"1\" class=\"dataframe\">\n",
       "  <thead>\n",
       "    <tr style=\"text-align: right;\">\n",
       "      <th></th>\n",
       "      <th>attributes</th>\n",
       "      <th>min</th>\n",
       "      <th>max</th>\n",
       "      <th>range</th>\n",
       "      <th>mean</th>\n",
       "      <th>median</th>\n",
       "      <th>std</th>\n",
       "      <th>skew</th>\n",
       "      <th>kurtosis</th>\n",
       "    </tr>\n",
       "  </thead>\n",
       "  <tbody>\n",
       "    <tr>\n",
       "      <th>0</th>\n",
       "      <td>chuva</td>\n",
       "      <td>0.00</td>\n",
       "      <td>16.800</td>\n",
       "      <td>16.800</td>\n",
       "      <td>0.093194</td>\n",
       "      <td>0.00</td>\n",
       "      <td>0.782662</td>\n",
       "      <td>14.156959</td>\n",
       "      <td>240.756360</td>\n",
       "    </tr>\n",
       "    <tr>\n",
       "      <th>1</th>\n",
       "      <td>air_humidity_100</td>\n",
       "      <td>13.00</td>\n",
       "      <td>99.000</td>\n",
       "      <td>86.000</td>\n",
       "      <td>60.238710</td>\n",
       "      <td>61.00</td>\n",
       "      <td>22.054974</td>\n",
       "      <td>-0.156821</td>\n",
       "      <td>-1.122700</td>\n",
       "    </tr>\n",
       "    <tr>\n",
       "      <th>2</th>\n",
       "      <td>air_temperature_100</td>\n",
       "      <td>12.36</td>\n",
       "      <td>42.664</td>\n",
       "      <td>30.304</td>\n",
       "      <td>24.660940</td>\n",
       "      <td>23.06</td>\n",
       "      <td>6.161576</td>\n",
       "      <td>0.594174</td>\n",
       "      <td>-0.468222</td>\n",
       "    </tr>\n",
       "    <tr>\n",
       "      <th>3</th>\n",
       "      <td>atm_pressure_main</td>\n",
       "      <td>9350.00</td>\n",
       "      <td>9507.000</td>\n",
       "      <td>157.000</td>\n",
       "      <td>9432.838106</td>\n",
       "      <td>9433.00</td>\n",
       "      <td>26.370624</td>\n",
       "      <td>-0.218423</td>\n",
       "      <td>-0.038030</td>\n",
       "    </tr>\n",
       "    <tr>\n",
       "      <th>4</th>\n",
       "      <td>num_of_resets</td>\n",
       "      <td>0.00</td>\n",
       "      <td>3.000</td>\n",
       "      <td>3.000</td>\n",
       "      <td>1.646406</td>\n",
       "      <td>2.00</td>\n",
       "      <td>1.090063</td>\n",
       "      <td>-0.080707</td>\n",
       "      <td>-1.322082</td>\n",
       "    </tr>\n",
       "    <tr>\n",
       "      <th>5</th>\n",
       "      <td>piezo_charge</td>\n",
       "      <td>16950.00</td>\n",
       "      <td>65533.000</td>\n",
       "      <td>48583.000</td>\n",
       "      <td>42462.030392</td>\n",
       "      <td>41765.00</td>\n",
       "      <td>13034.427608</td>\n",
       "      <td>0.038807</td>\n",
       "      <td>-1.097561</td>\n",
       "    </tr>\n",
       "    <tr>\n",
       "      <th>6</th>\n",
       "      <td>piezo_temperature</td>\n",
       "      <td>11.00</td>\n",
       "      <td>47.000</td>\n",
       "      <td>36.000</td>\n",
       "      <td>24.910579</td>\n",
       "      <td>22.00</td>\n",
       "      <td>8.371674</td>\n",
       "      <td>0.634002</td>\n",
       "      <td>-0.784482</td>\n",
       "    </tr>\n",
       "    <tr>\n",
       "      <th>7</th>\n",
       "      <td>year</td>\n",
       "      <td>2020.00</td>\n",
       "      <td>2020.000</td>\n",
       "      <td>0.000</td>\n",
       "      <td>2020.000000</td>\n",
       "      <td>2020.00</td>\n",
       "      <td>0.000000</td>\n",
       "      <td>0.000000</td>\n",
       "      <td>0.000000</td>\n",
       "    </tr>\n",
       "    <tr>\n",
       "      <th>8</th>\n",
       "      <td>month</td>\n",
       "      <td>9.00</td>\n",
       "      <td>12.000</td>\n",
       "      <td>3.000</td>\n",
       "      <td>10.717124</td>\n",
       "      <td>11.00</td>\n",
       "      <td>0.707763</td>\n",
       "      <td>0.455510</td>\n",
       "      <td>-0.912401</td>\n",
       "    </tr>\n",
       "    <tr>\n",
       "      <th>9</th>\n",
       "      <td>day</td>\n",
       "      <td>1.00</td>\n",
       "      <td>31.000</td>\n",
       "      <td>30.000</td>\n",
       "      <td>14.287551</td>\n",
       "      <td>13.00</td>\n",
       "      <td>8.918441</td>\n",
       "      <td>0.239954</td>\n",
       "      <td>-1.198728</td>\n",
       "    </tr>\n",
       "    <tr>\n",
       "      <th>10</th>\n",
       "      <td>week_of_year</td>\n",
       "      <td>40.00</td>\n",
       "      <td>50.000</td>\n",
       "      <td>10.000</td>\n",
       "      <td>45.052016</td>\n",
       "      <td>45.00</td>\n",
       "      <td>2.975290</td>\n",
       "      <td>-0.005215</td>\n",
       "      <td>-1.168043</td>\n",
       "    </tr>\n",
       "  </tbody>\n",
       "</table>\n",
       "</div>"
      ],
      "text/plain": [
       "             attributes       min        max      range          mean  \\\n",
       "0                 chuva      0.00     16.800     16.800      0.093194   \n",
       "1      air_humidity_100     13.00     99.000     86.000     60.238710   \n",
       "2   air_temperature_100     12.36     42.664     30.304     24.660940   \n",
       "3     atm_pressure_main   9350.00   9507.000    157.000   9432.838106   \n",
       "4         num_of_resets      0.00      3.000      3.000      1.646406   \n",
       "5          piezo_charge  16950.00  65533.000  48583.000  42462.030392   \n",
       "6     piezo_temperature     11.00     47.000     36.000     24.910579   \n",
       "7                  year   2020.00   2020.000      0.000   2020.000000   \n",
       "8                 month      9.00     12.000      3.000     10.717124   \n",
       "9                   day      1.00     31.000     30.000     14.287551   \n",
       "10         week_of_year     40.00     50.000     10.000     45.052016   \n",
       "\n",
       "      median           std       skew    kurtosis  \n",
       "0       0.00      0.782662  14.156959  240.756360  \n",
       "1      61.00     22.054974  -0.156821   -1.122700  \n",
       "2      23.06      6.161576   0.594174   -0.468222  \n",
       "3    9433.00     26.370624  -0.218423   -0.038030  \n",
       "4       2.00      1.090063  -0.080707   -1.322082  \n",
       "5   41765.00  13034.427608   0.038807   -1.097561  \n",
       "6      22.00      8.371674   0.634002   -0.784482  \n",
       "7    2020.00      0.000000   0.000000    0.000000  \n",
       "8      11.00      0.707763   0.455510   -0.912401  \n",
       "9      13.00      8.918441   0.239954   -1.198728  \n",
       "10     45.00      2.975290  -0.005215   -1.168043  "
      ]
     },
     "execution_count": 21,
     "metadata": {},
     "output_type": "execute_result"
    }
   ],
   "source": [
    "# Central Tendency - mean, meadina \n",
    "ct1 = pd.DataFrame( num_attributes.apply( np.mean ) ).T\n",
    "ct2 = pd.DataFrame( num_attributes.apply( np.median ) ).T\n",
    "\n",
    "# dispersion - std, min, max, range, skew, kurtosis\n",
    "d1 = pd.DataFrame( num_attributes.apply( np.std ) ).T \n",
    "d2 = pd.DataFrame( num_attributes.apply( min ) ).T \n",
    "d3 = pd.DataFrame( num_attributes.apply( max ) ).T \n",
    "d4 = pd.DataFrame( num_attributes.apply( lambda x: x.max() - x.min() ) ).T \n",
    "d5 = pd.DataFrame( num_attributes.apply( lambda x: x.skew() ) ).T \n",
    "d6 = pd.DataFrame( num_attributes.apply( lambda x: x.kurtosis() ) ).T \n",
    "\n",
    "# concatenar\n",
    "m = pd.concat( [d2, d3, d4, ct1, ct2, d1, d5, d6] ).T.reset_index()\n",
    "m.columns = ['attributes', 'min', 'max', 'range', 'mean', 'median', 'std', 'skew', 'kurtosis']\n",
    "m"
   ]
  },
  {
   "cell_type": "markdown",
   "id": "d547f043",
   "metadata": {},
   "source": [
    "### 1.9.2. Categorical Atributes"
   ]
  },
  {
   "cell_type": "code",
   "execution_count": 22,
   "id": "b87dabb7",
   "metadata": {},
   "outputs": [
    {
     "data": {
      "text/plain": [
       "hora          25\n",
       "DataHora    1711\n",
       "dtype: int64"
      ]
     },
     "execution_count": 22,
     "metadata": {},
     "output_type": "execute_result"
    }
   ],
   "source": [
    "cat_attributes.nunique()"
   ]
  },
  {
   "cell_type": "code",
   "execution_count": 23,
   "id": "4bfbf2c1",
   "metadata": {},
   "outputs": [
    {
     "data": {
      "text/html": [
       "<div>\n",
       "<style scoped>\n",
       "    .dataframe tbody tr th:only-of-type {\n",
       "        vertical-align: middle;\n",
       "    }\n",
       "\n",
       "    .dataframe tbody tr th {\n",
       "        vertical-align: top;\n",
       "    }\n",
       "\n",
       "    .dataframe thead th {\n",
       "        text-align: right;\n",
       "    }\n",
       "</style>\n",
       "<table border=\"1\" class=\"dataframe\">\n",
       "  <thead>\n",
       "    <tr style=\"text-align: right;\">\n",
       "      <th></th>\n",
       "      <th>data</th>\n",
       "      <th>hora</th>\n",
       "      <th>chuva</th>\n",
       "      <th>DataHora</th>\n",
       "      <th>air_humidity_100</th>\n",
       "      <th>air_temperature_100</th>\n",
       "      <th>atm_pressure_main</th>\n",
       "      <th>num_of_resets</th>\n",
       "      <th>piezo_charge</th>\n",
       "      <th>piezo_temperature</th>\n",
       "      <th>year</th>\n",
       "      <th>month</th>\n",
       "      <th>day</th>\n",
       "      <th>week_of_year</th>\n",
       "    </tr>\n",
       "  </thead>\n",
       "  <tbody>\n",
       "    <tr>\n",
       "      <th>0</th>\n",
       "      <td>2020-09-30</td>\n",
       "      <td>23:00:00</td>\n",
       "      <td>0.000000</td>\n",
       "      <td>2020-09-30 23:00:00+00:00</td>\n",
       "      <td>38.00000</td>\n",
       "      <td>31.36600</td>\n",
       "      <td>9412</td>\n",
       "      <td>0</td>\n",
       "      <td>45123</td>\n",
       "      <td>30</td>\n",
       "      <td>2020</td>\n",
       "      <td>9</td>\n",
       "      <td>30</td>\n",
       "      <td>40</td>\n",
       "    </tr>\n",
       "    <tr>\n",
       "      <th>1</th>\n",
       "      <td>2020-10-01</td>\n",
       "      <td>00:00:00</td>\n",
       "      <td>0.000000</td>\n",
       "      <td>2020-10-01 00:00:00+00:00</td>\n",
       "      <td>60.23871</td>\n",
       "      <td>24.66094</td>\n",
       "      <td>9412</td>\n",
       "      <td>0</td>\n",
       "      <td>45025</td>\n",
       "      <td>31</td>\n",
       "      <td>2020</td>\n",
       "      <td>10</td>\n",
       "      <td>1</td>\n",
       "      <td>40</td>\n",
       "    </tr>\n",
       "    <tr>\n",
       "      <th>2</th>\n",
       "      <td>2020-10-01</td>\n",
       "      <td>01:00:00</td>\n",
       "      <td>0.000000</td>\n",
       "      <td>2020-10-01 01:00:00+00:00</td>\n",
       "      <td>39.00000</td>\n",
       "      <td>31.36600</td>\n",
       "      <td>9419</td>\n",
       "      <td>0</td>\n",
       "      <td>44923</td>\n",
       "      <td>31</td>\n",
       "      <td>2020</td>\n",
       "      <td>10</td>\n",
       "      <td>1</td>\n",
       "      <td>40</td>\n",
       "    </tr>\n",
       "    <tr>\n",
       "      <th>3</th>\n",
       "      <td>2020-10-01</td>\n",
       "      <td>02:00:00</td>\n",
       "      <td>0.000000</td>\n",
       "      <td>2020-10-01 02:00:00+00:00</td>\n",
       "      <td>39.00000</td>\n",
       "      <td>31.32200</td>\n",
       "      <td>9419</td>\n",
       "      <td>0</td>\n",
       "      <td>44825</td>\n",
       "      <td>31</td>\n",
       "      <td>2020</td>\n",
       "      <td>10</td>\n",
       "      <td>1</td>\n",
       "      <td>40</td>\n",
       "    </tr>\n",
       "    <tr>\n",
       "      <th>4</th>\n",
       "      <td>2020-10-01</td>\n",
       "      <td>03:00:00</td>\n",
       "      <td>0.000000</td>\n",
       "      <td>2020-10-01 03:00:00+00:00</td>\n",
       "      <td>38.00000</td>\n",
       "      <td>31.24000</td>\n",
       "      <td>9416</td>\n",
       "      <td>0</td>\n",
       "      <td>44728</td>\n",
       "      <td>31</td>\n",
       "      <td>2020</td>\n",
       "      <td>10</td>\n",
       "      <td>1</td>\n",
       "      <td>40</td>\n",
       "    </tr>\n",
       "    <tr>\n",
       "      <th>...</th>\n",
       "      <td>...</td>\n",
       "      <td>...</td>\n",
       "      <td>...</td>\n",
       "      <td>...</td>\n",
       "      <td>...</td>\n",
       "      <td>...</td>\n",
       "      <td>...</td>\n",
       "      <td>...</td>\n",
       "      <td>...</td>\n",
       "      <td>...</td>\n",
       "      <td>...</td>\n",
       "      <td>...</td>\n",
       "      <td>...</td>\n",
       "      <td>...</td>\n",
       "    </tr>\n",
       "    <tr>\n",
       "      <th>1706</th>\n",
       "      <td>2020-12-11</td>\n",
       "      <td>09:00:00</td>\n",
       "      <td>0.093194</td>\n",
       "      <td>2020-12-11 09:00:00+00:00</td>\n",
       "      <td>82.00000</td>\n",
       "      <td>19.48000</td>\n",
       "      <td>9422</td>\n",
       "      <td>3</td>\n",
       "      <td>20669</td>\n",
       "      <td>17</td>\n",
       "      <td>2020</td>\n",
       "      <td>12</td>\n",
       "      <td>11</td>\n",
       "      <td>50</td>\n",
       "    </tr>\n",
       "    <tr>\n",
       "      <th>1707</th>\n",
       "      <td>2020-12-11</td>\n",
       "      <td>10:00:00</td>\n",
       "      <td>0.093194</td>\n",
       "      <td>2020-12-11 10:00:00+00:00</td>\n",
       "      <td>69.00000</td>\n",
       "      <td>24.00000</td>\n",
       "      <td>9429</td>\n",
       "      <td>3</td>\n",
       "      <td>20606</td>\n",
       "      <td>19</td>\n",
       "      <td>2020</td>\n",
       "      <td>12</td>\n",
       "      <td>11</td>\n",
       "      <td>50</td>\n",
       "    </tr>\n",
       "    <tr>\n",
       "      <th>1708</th>\n",
       "      <td>2020-12-11</td>\n",
       "      <td>11:00:00</td>\n",
       "      <td>0.093194</td>\n",
       "      <td>2020-12-11 11:00:00+00:00</td>\n",
       "      <td>63.00000</td>\n",
       "      <td>25.44000</td>\n",
       "      <td>9436</td>\n",
       "      <td>3</td>\n",
       "      <td>20529</td>\n",
       "      <td>25</td>\n",
       "      <td>2020</td>\n",
       "      <td>12</td>\n",
       "      <td>11</td>\n",
       "      <td>50</td>\n",
       "    </tr>\n",
       "    <tr>\n",
       "      <th>1709</th>\n",
       "      <td>2020-12-11</td>\n",
       "      <td>12:00:00</td>\n",
       "      <td>0.093194</td>\n",
       "      <td>2020-12-11 12:00:00+00:00</td>\n",
       "      <td>60.00000</td>\n",
       "      <td>27.16000</td>\n",
       "      <td>9439</td>\n",
       "      <td>3</td>\n",
       "      <td>20442</td>\n",
       "      <td>28</td>\n",
       "      <td>2020</td>\n",
       "      <td>12</td>\n",
       "      <td>11</td>\n",
       "      <td>50</td>\n",
       "    </tr>\n",
       "    <tr>\n",
       "      <th>1710</th>\n",
       "      <td>2020-12-11</td>\n",
       "      <td>13:00:00</td>\n",
       "      <td>0.093194</td>\n",
       "      <td>2020-12-11 13:00:00+00:00</td>\n",
       "      <td>56.00000</td>\n",
       "      <td>29.06000</td>\n",
       "      <td>9440</td>\n",
       "      <td>3</td>\n",
       "      <td>20344</td>\n",
       "      <td>30</td>\n",
       "      <td>2020</td>\n",
       "      <td>12</td>\n",
       "      <td>11</td>\n",
       "      <td>50</td>\n",
       "    </tr>\n",
       "  </tbody>\n",
       "</table>\n",
       "<p>1711 rows × 14 columns</p>\n",
       "</div>"
      ],
      "text/plain": [
       "           data      hora     chuva                  DataHora  \\\n",
       "0    2020-09-30  23:00:00  0.000000 2020-09-30 23:00:00+00:00   \n",
       "1    2020-10-01  00:00:00  0.000000 2020-10-01 00:00:00+00:00   \n",
       "2    2020-10-01  01:00:00  0.000000 2020-10-01 01:00:00+00:00   \n",
       "3    2020-10-01  02:00:00  0.000000 2020-10-01 02:00:00+00:00   \n",
       "4    2020-10-01  03:00:00  0.000000 2020-10-01 03:00:00+00:00   \n",
       "...         ...       ...       ...                       ...   \n",
       "1706 2020-12-11  09:00:00  0.093194 2020-12-11 09:00:00+00:00   \n",
       "1707 2020-12-11  10:00:00  0.093194 2020-12-11 10:00:00+00:00   \n",
       "1708 2020-12-11  11:00:00  0.093194 2020-12-11 11:00:00+00:00   \n",
       "1709 2020-12-11  12:00:00  0.093194 2020-12-11 12:00:00+00:00   \n",
       "1710 2020-12-11  13:00:00  0.093194 2020-12-11 13:00:00+00:00   \n",
       "\n",
       "      air_humidity_100  air_temperature_100  atm_pressure_main  num_of_resets  \\\n",
       "0             38.00000             31.36600               9412              0   \n",
       "1             60.23871             24.66094               9412              0   \n",
       "2             39.00000             31.36600               9419              0   \n",
       "3             39.00000             31.32200               9419              0   \n",
       "4             38.00000             31.24000               9416              0   \n",
       "...                ...                  ...                ...            ...   \n",
       "1706          82.00000             19.48000               9422              3   \n",
       "1707          69.00000             24.00000               9429              3   \n",
       "1708          63.00000             25.44000               9436              3   \n",
       "1709          60.00000             27.16000               9439              3   \n",
       "1710          56.00000             29.06000               9440              3   \n",
       "\n",
       "      piezo_charge  piezo_temperature  year  month  day  week_of_year  \n",
       "0            45123                 30  2020      9   30            40  \n",
       "1            45025                 31  2020     10    1            40  \n",
       "2            44923                 31  2020     10    1            40  \n",
       "3            44825                 31  2020     10    1            40  \n",
       "4            44728                 31  2020     10    1            40  \n",
       "...            ...                ...   ...    ...  ...           ...  \n",
       "1706         20669                 17  2020     12   11            50  \n",
       "1707         20606                 19  2020     12   11            50  \n",
       "1708         20529                 25  2020     12   11            50  \n",
       "1709         20442                 28  2020     12   11            50  \n",
       "1710         20344                 30  2020     12   11            50  \n",
       "\n",
       "[1711 rows x 14 columns]"
      ]
     },
     "execution_count": 23,
     "metadata": {},
     "output_type": "execute_result"
    }
   ],
   "source": [
    "df"
   ]
  },
  {
   "cell_type": "markdown",
   "id": "618c6a17",
   "metadata": {},
   "source": [
    "# 3.0. FILTERING OF VARIABLES"
   ]
  },
  {
   "cell_type": "markdown",
   "id": "c3910c8d",
   "metadata": {},
   "source": [
    "## 3.1 Selecao das Colunas"
   ]
  },
  {
   "cell_type": "code",
   "execution_count": 24,
   "id": "12731158",
   "metadata": {},
   "outputs": [],
   "source": [
    "df.drop(columns=['DataHora'], inplace=True)"
   ]
  },
  {
   "cell_type": "markdown",
   "id": "9e87ceaa",
   "metadata": {},
   "source": [
    "# 4.0. ANALISE EXPLORATORIA DOS DADOS"
   ]
  },
  {
   "cell_type": "code",
   "execution_count": 25,
   "id": "512f36c4",
   "metadata": {},
   "outputs": [],
   "source": [
    "df['rotulo'] = df['chuva'].map(lambda x: 0 if x == 0 else 1)"
   ]
  },
  {
   "cell_type": "markdown",
   "id": "189fa628",
   "metadata": {},
   "source": [
    "## 4.1 Análise Univariada"
   ]
  },
  {
   "cell_type": "markdown",
   "id": "8833cdc6",
   "metadata": {},
   "source": [
    "### 4.1.1 Variavel Resposta"
   ]
  },
  {
   "cell_type": "code",
   "execution_count": 26,
   "id": "2e8335f9",
   "metadata": {},
   "outputs": [
    {
     "data": {
      "image/png": "[encoded data removed]",
      "text/plain": [
       "<Figure size 640x480 with 1 Axes>"
      ]
     },
     "metadata": {},
     "output_type": "display_data"
    }
   ],
   "source": [
    "sns.countplot(df['rotulo']);"
   ]
  },
  {
   "cell_type": "markdown",
   "id": "31be871d",
   "metadata": {},
   "source": [
    "### 4.1.2. Variável Numérica"
   ]
  },
  {
   "cell_type": "code",
   "execution_count": 27,
   "id": "3587e04c",
   "metadata": {},
   "outputs": [
    {
     "data": {
      "image/png": "[encoded data removed]",
      "text/plain": [
       "<Figure size 1000x700 with 12 Axes>"
      ]
     },
     "metadata": {},
     "output_type": "display_data"
    }
   ],
   "source": [
    "num_attributes.hist(bins=25, figsize=(10, 7));"
   ]
  },
  {
   "cell_type": "markdown",
   "id": "83e7d1a5",
   "metadata": {},
   "source": [
    "## 4.2. Análise Bivariada"
   ]
  },
  {
   "cell_type": "code",
   "execution_count": 28,
   "id": "b248644d",
   "metadata": {},
   "outputs": [
    {
     "data": {
      "image/png": "[encoded data removed]",
      "text/plain": [
       "<Figure size 1500x800 with 2 Axes>"
      ]
     },
     "metadata": {},
     "output_type": "display_data"
    }
   ],
   "source": [
    "pylab.rcParams['figure.figsize'] = (15.0, 8.0)\n",
    "plt.subplot(1, 2, 1)\n",
    "sns.countplot(df['air_temperature_100']);\n",
    "\n",
    "plt.subplot(1, 2, 2)\n",
    "sns.countplot(df['piezo_charge']);"
   ]
  },
  {
   "cell_type": "code",
   "execution_count": 29,
   "id": "2b8428ae",
   "metadata": {},
   "outputs": [
    {
     "data": {
      "image/png": "[encoded data removed]",
      "text/plain": [
       "<Figure size 1500x800 with 1 Axes>"
      ]
     },
     "metadata": {},
     "output_type": "display_data"
    }
   ],
   "source": [
    "plt.subplot(1, 2, 2)\n",
    "sns.countplot(df['num_of_resets']);"
   ]
  },
  {
   "cell_type": "code",
   "execution_count": 30,
   "id": "1e989544",
   "metadata": {},
   "outputs": [
    {
     "data": {
      "image/png": "[encoded data removed]",
      "text/plain": [
       "<Figure size 1500x800 with 1 Axes>"
      ]
     },
     "metadata": {},
     "output_type": "display_data"
    }
   ],
   "source": [
    "plt.subplot(1, 2, 2)\n",
    "sns.countplot(df['piezo_temperature']);"
   ]
  },
  {
   "cell_type": "code",
   "execution_count": 31,
   "id": "79db6ee3",
   "metadata": {},
   "outputs": [
    {
     "data": {
      "image/png": "[encoded data removed]",
      "text/plain": [
       "<Figure size 1400x700 with 2 Axes>"
      ]
     },
     "metadata": {},
     "output_type": "display_data"
    }
   ],
   "source": [
    "tamanho(14, 7)\n",
    "plt.subplot(2, 2, 1)\n",
    "sns.barplot(x='piezo_charge', y='piezo_temperature', data=df);\n",
    "\n",
    "plt.subplot(2, 2, 2)\n",
    "sns.boxplot(x='piezo_temperature', y='piezo_charge', data=df);"
   ]
  },
  {
   "cell_type": "markdown",
   "id": "813b1ef7",
   "metadata": {},
   "source": [
    "## 4.3 Análise Multivariada"
   ]
  },
  {
   "cell_type": "markdown",
   "id": "59c74e77",
   "metadata": {},
   "source": [
    "### 4.3.1. Atributos Numéricos"
   ]
  },
  {
   "cell_type": "code",
   "execution_count": 32,
   "id": "6168386b",
   "metadata": {},
   "outputs": [
    {
     "data": {
      "image/png": "[encoded data removed]",
      "text/plain": [
       "<Figure size 1400x700 with 2 Axes>"
      ]
     },
     "metadata": {},
     "output_type": "display_data"
    }
   ],
   "source": [
    "correlation = num_attributes.corr( method = 'pearson' )\n",
    "sns.heatmap( correlation, annot=True );"
   ]
  },
  {
   "cell_type": "markdown",
   "id": "410df030",
   "metadata": {},
   "source": [
    "# 5.0 DATA PREPARATION"
   ]
  },
  {
   "cell_type": "markdown",
   "id": "48a2fa79",
   "metadata": {},
   "source": [
    "## 5.1. Encoding"
   ]
  },
  {
   "cell_type": "code",
   "execution_count": 33,
   "id": "6410a196",
   "metadata": {},
   "outputs": [],
   "source": [
    "X_cat = cat_attributes[['hora']]\n",
    "\n",
    "onn = OneHotEncoder()\n",
    "\n",
    "X_cat = onn.fit_transform(X_cat).toarray()\n",
    "\n",
    "X_cat = pd.DataFrame(X_cat)\n",
    "\n",
    "X_numerical = num_attributes[['air_humidity_100', 'air_temperature_100', 'air_temperature_100', 'atm_pressure_main',\n",
    "                              'num_of_resets', 'piezo_charge', 'piezo_temperature', 'year', 'month', 'week_of_year', 'day']]\n",
    "\n",
    "df1 = pd.concat([X_numerical, X_cat], axis=1)\n",
    "\n",
    "df_all = pd.concat([df1, df['rotulo']], axis=1)"
   ]
  },
  {
   "cell_type": "markdown",
   "id": "718eed7a",
   "metadata": {},
   "source": [
    "## 5.2. Balanceamento da variável resposta"
   ]
  },
  {
   "cell_type": "code",
   "execution_count": 34,
   "id": "231403ad",
   "metadata": {},
   "outputs": [],
   "source": [
    "x = df_all.iloc[:,0:36]\n",
    "y = df_all.iloc[:, -1]\n",
    "\n",
    "smote = SMOTE()\n",
    "\n",
    "x, y = smote.fit_resample(x,y)"
   ]
  },
  {
   "cell_type": "markdown",
   "id": "e4e496a7",
   "metadata": {},
   "source": [
    "## 5.3 Rescaling"
   ]
  },
  {
   "cell_type": "code",
   "execution_count": 35,
   "id": "40d1a4b6",
   "metadata": {
    "scrolled": true
   },
   "outputs": [],
   "source": [
    "mms = MinMaxScaler()\n",
    "\n",
    "x = mms.fit_transform(x)"
   ]
  },
  {
   "cell_type": "markdown",
   "id": "a54f1f5b",
   "metadata": {},
   "source": [
    "# 6.0 MODELO DE MACHINE LEARNING"
   ]
  },
  {
   "cell_type": "code",
   "execution_count": 36,
   "id": "88195b61",
   "metadata": {},
   "outputs": [],
   "source": [
    "X_train, X_test, y_train, y_test = train_test_split(x, y, test_size=0.30)"
   ]
  },
  {
   "cell_type": "markdown",
   "id": "e87f014d",
   "metadata": {},
   "source": [
    "## 6.1. Random Forest"
   ]
  },
  {
   "cell_type": "code",
   "execution_count": 37,
   "id": "1bdefe3b",
   "metadata": {},
   "outputs": [
    {
     "data": {
      "text/plain": [
       "RandomForestClassifier()"
      ]
     },
     "execution_count": 37,
     "metadata": {},
     "output_type": "execute_result"
    }
   ],
   "source": [
    "random_forest = RandomForestClassifier()\n",
    "random_forest.fit(X_train, y_train)"
   ]
  },
  {
   "cell_type": "code",
   "execution_count": 38,
   "id": "02603902",
   "metadata": {},
   "outputs": [
    {
     "data": {
      "text/plain": [
       "97.85067873303167"
      ]
     },
     "execution_count": 38,
     "metadata": {},
     "output_type": "execute_result"
    }
   ],
   "source": [
    "y_pred = random_forest.predict(X_test)\n",
    "accuracy_score(y_test, y_pred)*100"
   ]
  },
  {
   "cell_type": "code",
   "execution_count": 39,
   "id": "67d41834",
   "metadata": {},
   "outputs": [
    {
     "name": "stdout",
     "output_type": "stream",
     "text": [
      "              precision    recall  f1-score   support\n",
      "\n",
      "           0       0.97      0.99      0.98       437\n",
      "           1       0.99      0.97      0.98       447\n",
      "\n",
      "    accuracy                           0.98       884\n",
      "   macro avg       0.98      0.98      0.98       884\n",
      "weighted avg       0.98      0.98      0.98       884\n",
      "\n"
     ]
    }
   ],
   "source": [
    "print(classification_report(y_test, y_pred))"
   ]
  },
  {
   "cell_type": "markdown",
   "id": "d8344ac1",
   "metadata": {},
   "source": [
    "## 6.2. Regressão Logística"
   ]
  },
  {
   "cell_type": "code",
   "execution_count": 40,
   "id": "904e63ee",
   "metadata": {},
   "outputs": [
    {
     "data": {
      "text/plain": [
       "LogisticRegression()"
      ]
     },
     "execution_count": 40,
     "metadata": {},
     "output_type": "execute_result"
    }
   ],
   "source": [
    "regr_logist = LogisticRegression()\n",
    "regr_logist.fit(X_train, y_train)"
   ]
  },
  {
   "cell_type": "code",
   "execution_count": 41,
   "id": "8e086a0f",
   "metadata": {},
   "outputs": [
    {
     "data": {
      "text/plain": [
       "89.47963800904978"
      ]
     },
     "execution_count": 41,
     "metadata": {},
     "output_type": "execute_result"
    }
   ],
   "source": [
    "y_pred = regr_logist.predict(X_test)\n",
    "accuracy_score(y_test, y_pred)*100"
   ]
  },
  {
   "cell_type": "code",
   "execution_count": 42,
   "id": "08ad419f",
   "metadata": {},
   "outputs": [
    {
     "name": "stdout",
     "output_type": "stream",
     "text": [
      "              precision    recall  f1-score   support\n",
      "\n",
      "           0       0.89      0.90      0.89       437\n",
      "           1       0.90      0.89      0.90       447\n",
      "\n",
      "    accuracy                           0.89       884\n",
      "   macro avg       0.89      0.89      0.89       884\n",
      "weighted avg       0.89      0.89      0.89       884\n",
      "\n"
     ]
    }
   ],
   "source": [
    "print(classification_report(y_test, y_pred))\n"
   ]
  },
  {
   "cell_type": "markdown",
   "id": "871cd544",
   "metadata": {},
   "source": [
    "## 6.3. Decision Tree"
   ]
  },
  {
   "cell_type": "code",
   "execution_count": 43,
   "id": "832f817c",
   "metadata": {},
   "outputs": [
    {
     "data": {
      "text/plain": [
       "DecisionTreeClassifier()"
      ]
     },
     "execution_count": 43,
     "metadata": {},
     "output_type": "execute_result"
    }
   ],
   "source": [
    "decision_tree = DecisionTreeClassifier()\n",
    "decision_tree.fit(X_train, y_train)"
   ]
  },
  {
   "cell_type": "code",
   "execution_count": 44,
   "id": "4b1ea252",
   "metadata": {},
   "outputs": [
    {
     "data": {
      "text/plain": [
       "96.49321266968326"
      ]
     },
     "execution_count": 44,
     "metadata": {},
     "output_type": "execute_result"
    }
   ],
   "source": [
    "y_pred = decision_tree.predict(X_test)\n",
    "accuracy_score(y_test, y_pred)*100"
   ]
  },
  {
   "cell_type": "code",
   "execution_count": 45,
   "id": "44982a63",
   "metadata": {},
   "outputs": [
    {
     "name": "stdout",
     "output_type": "stream",
     "text": [
      "              precision    recall  f1-score   support\n",
      "\n",
      "           0       0.99      0.94      0.96       437\n",
      "           1       0.95      0.99      0.97       447\n",
      "\n",
      "    accuracy                           0.96       884\n",
      "   macro avg       0.97      0.96      0.96       884\n",
      "weighted avg       0.97      0.96      0.96       884\n",
      "\n"
     ]
    }
   ],
   "source": [
    "print(classification_report(y_test, y_pred))"
   ]
  },
  {
   "cell_type": "markdown",
   "id": "24978b4e",
   "metadata": {},
   "source": [
    "## 6.4. SVM"
   ]
  },
  {
   "cell_type": "code",
   "execution_count": 46,
   "id": "ce53a8e4",
   "metadata": {},
   "outputs": [
    {
     "data": {
      "text/plain": [
       "SVC()"
      ]
     },
     "execution_count": 46,
     "metadata": {},
     "output_type": "execute_result"
    }
   ],
   "source": [
    "svm = SVC()\n",
    "svm.fit(X_train, y_train)"
   ]
  },
  {
   "cell_type": "code",
   "execution_count": 47,
   "id": "028c2046",
   "metadata": {},
   "outputs": [
    {
     "data": {
      "text/plain": [
       "92.87330316742081"
      ]
     },
     "execution_count": 47,
     "metadata": {},
     "output_type": "execute_result"
    }
   ],
   "source": [
    "y_pred = svm.predict(X_test)\n",
    "accuracy_score(y_test, y_pred)*100"
   ]
  },
  {
   "cell_type": "code",
   "execution_count": 48,
   "id": "47739a88",
   "metadata": {},
   "outputs": [
    {
     "name": "stdout",
     "output_type": "stream",
     "text": [
      "              precision    recall  f1-score   support\n",
      "\n",
      "           0       0.92      0.94      0.93       437\n",
      "           1       0.94      0.92      0.93       447\n",
      "\n",
      "    accuracy                           0.93       884\n",
      "   macro avg       0.93      0.93      0.93       884\n",
      "weighted avg       0.93      0.93      0.93       884\n",
      "\n"
     ]
    }
   ],
   "source": [
    "print(classification_report(y_test, y_pred))"
   ]
  },
  {
   "cell_type": "markdown",
   "id": "5801c291",
   "metadata": {},
   "source": [
    "## 6.5. XGBoost"
   ]
  },
  {
   "cell_type": "code",
   "execution_count": 49,
   "id": "32d864d1",
   "metadata": {},
   "outputs": [
    {
     "data": {
      "text/plain": [
       "XGBClassifier(base_score=None, booster=None, callbacks=None,\n",
       "              colsample_bylevel=None, colsample_bynode=None,\n",
       "              colsample_bytree=None, early_stopping_rounds=None,\n",
       "              enable_categorical=False, eval_metric=None, feature_types=None,\n",
       "              gamma=None, gpu_id=None, grow_policy=None, importance_type=None,\n",
       "              interaction_constraints=None, learning_rate=None, max_bin=None,\n",
       "              max_cat_threshold=None, max_cat_to_onehot=None,\n",
       "              max_delta_step=None, max_depth=None, max_leaves=None,\n",
       "              min_child_weight=None, missing=nan, monotone_constraints=None,\n",
       "              n_estimators=100, n_jobs=None, num_parallel_tree=None,\n",
       "              predictor=None, random_state=None, ...)"
      ]
     },
     "execution_count": 49,
     "metadata": {},
     "output_type": "execute_result"
    }
   ],
   "source": [
    "xgb = XGBClassifier()\n",
    "xgb.fit(X_train, y_train)"
   ]
  },
  {
   "cell_type": "code",
   "execution_count": 50,
   "id": "92c5870c",
   "metadata": {},
   "outputs": [
    {
     "data": {
      "text/plain": [
       "98.30316742081448"
      ]
     },
     "execution_count": 50,
     "metadata": {},
     "output_type": "execute_result"
    }
   ],
   "source": [
    "y_pred = xgb.predict(X_test)\n",
    "accuracy_score(y_test, y_pred)*100"
   ]
  },
  {
   "cell_type": "code",
   "execution_count": 51,
   "id": "07b8718d",
   "metadata": {},
   "outputs": [
    {
     "name": "stdout",
     "output_type": "stream",
     "text": [
      "              precision    recall  f1-score   support\n",
      "\n",
      "           0       0.98      0.99      0.98       437\n",
      "           1       0.99      0.98      0.98       447\n",
      "\n",
      "    accuracy                           0.98       884\n",
      "   macro avg       0.98      0.98      0.98       884\n",
      "weighted avg       0.98      0.98      0.98       884\n",
      "\n"
     ]
    }
   ],
   "source": [
    "print(classification_report(y_test, y_pred))\n"
   ]
  },
  {
   "cell_type": "markdown",
   "id": "0d541953",
   "metadata": {},
   "source": [
    "# 7.0 SALVANDO O CLASSIFICADOR"
   ]
  },
  {
   "cell_type": "code",
   "execution_count": 52,
   "id": "51e3e969",
   "metadata": {},
   "outputs": [],
   "source": [
    "with open('variaveismodelo.pkl', 'wb') as f:\n",
    "    pickle.dump([smote, onn, mms, random_forest, regr_logist, decision_tree, svm, xgb], f)"
   ]
  }
 ],
 "metadata": {
  "kernelspec": {
   "display_name": "Python 3 (ipykernel)",
   "language": "python",
   "name": "python3"
  },
  "language_info": {
   "codemirror_mode": {
    "name": "ipython",
    "version": 3
   },
   "file_extension": ".py",
   "mimetype": "text/x-python",
   "name": "python",
   "nbconvert_exporter": "python",
   "pygments_lexer": "ipython3",
   "version": "3.9.13"
  }
 },
 "nbformat": 4,
 "nbformat_minor": 5
}
